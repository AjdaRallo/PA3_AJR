{
 "cells": [
  {
   "cell_type": "markdown",
   "id": "20a5846e",
   "metadata": {},
   "source": [
    "* AJ Rallo\n",
    "* Assignment 3\n",
    "* Version 1\n",
    "* Fall 2023"
   ]
  },
  {
   "cell_type": "markdown",
   "id": "9074818e",
   "metadata": {},
   "source": [
    "# List Operations"
   ]
  },
  {
   "cell_type": "code",
   "execution_count": 11,
   "id": "18012403",
   "metadata": {},
   "outputs": [
    {
     "name": "stdout",
     "output_type": "stream",
     "text": [
      "[5, 10, 30, 40, 50, 60]\n"
     ]
    }
   ],
   "source": [
    "number=[10,20,30,40,50]\n",
    "number.append(60)\n",
    "number.insert(0,5)\n",
    "number.remove(20)\n",
    "print(number)"
   ]
  },
  {
   "cell_type": "markdown",
   "id": "4e06b7cc",
   "metadata": {},
   "source": [
    "# Tuple Basics"
   ]
  },
  {
   "cell_type": "code",
   "execution_count": 13,
   "id": "e6118a3d",
   "metadata": {},
   "outputs": [
    {
     "data": {
      "text/plain": [
       "'Wednesday'"
      ]
     },
     "execution_count": 13,
     "metadata": {},
     "output_type": "execute_result"
    }
   ],
   "source": [
    "days=(\"Monday\", \"Tuesday\", \"Wednesday\", \"Thursday\", \"Friday\", \"Saturday\", \"Sunday\")\n",
    "days[2]"
   ]
  },
  {
   "cell_type": "code",
   "execution_count": 15,
   "id": "438c5011",
   "metadata": {},
   "outputs": [
    {
     "ename": "TypeError",
     "evalue": "'tuple' object does not support item assignment",
     "output_type": "error",
     "traceback": [
      "\u001b[1;31m---------------------------------------------------------------------------\u001b[0m",
      "\u001b[1;31mTypeError\u001b[0m                                 Traceback (most recent call last)",
      "Cell \u001b[1;32mIn[15], line 1\u001b[0m\n\u001b[1;32m----> 1\u001b[0m days[\u001b[38;5;241m1\u001b[39m]\u001b[38;5;241m=\u001b[39m\u001b[38;5;124m\"\u001b[39m\u001b[38;5;124mFunday\u001b[39m\u001b[38;5;124m\"\u001b[39m\n",
      "\u001b[1;31mTypeError\u001b[0m: 'tuple' object does not support item assignment"
     ]
    }
   ],
   "source": [
    "days[1]=\"Funday\"\n",
    "# Tuples are Unadaptable and can not be changed/edited"
   ]
  },
  {
   "cell_type": "markdown",
   "id": "6d67f36a",
   "metadata": {},
   "source": [
    "# Reversing Sublists"
   ]
  },
  {
   "cell_type": "code",
   "execution_count": 17,
   "id": "eca2f51c",
   "metadata": {},
   "outputs": [],
   "source": [
    "letters=[\"a\", \"b\", \"c\", \"d\", \"e\", \"f\", \"g\", \"h\", \"i\", \"j\", \"k\", \"l\", \"m\", \"n\", \"o\", \"p\", \"q\", \"r\", \"s\", \"t\", \"u\", \"v\", \"w\", \"x\", \"y\", \"z\"]"
   ]
  },
  {
   "cell_type": "code",
   "execution_count": 45,
   "id": "23da829f",
   "metadata": {},
   "outputs": [
    {
     "name": "stdout",
     "output_type": "stream",
     "text": [
      "['k', 'l', 'm', 'n', 'o', 'p']\n"
     ]
    }
   ],
   "source": [
    "letters[10:16].reverse()\n",
    "print(letters[10:16])"
   ]
  },
  {
   "cell_type": "code",
   "execution_count": 46,
   "id": "4c489994",
   "metadata": {},
   "outputs": [
    {
     "name": "stdout",
     "output_type": "stream",
     "text": [
      "['p', 'o', 'n', 'm', 'l', 'k']\n"
     ]
    }
   ],
   "source": [
    "letters.reverse()\n",
    "print(letters[10:16])"
   ]
  },
  {
   "cell_type": "markdown",
   "id": "c77abceb",
   "metadata": {},
   "source": [
    "# Tuple Packing and Unpacking"
   ]
  },
  {
   "cell_type": "code",
   "execution_count": 47,
   "id": "0885e8b7",
   "metadata": {},
   "outputs": [],
   "source": [
    "student=(\"AJ\",\"Rallo\", 18, \"Math\")"
   ]
  },
  {
   "cell_type": "code",
   "execution_count": 51,
   "id": "05aa23b8",
   "metadata": {},
   "outputs": [
    {
     "name": "stdout",
     "output_type": "stream",
     "text": [
      "First name: AJ\n",
      "Last name: Rallo\n",
      "Age is:  18\n",
      "Favorite subject is:  Math\n"
     ]
    }
   ],
   "source": [
    "first_name, last_name, age, subject=student\n",
    "print(\"First name:\", first_name)\n",
    "print(\"Last name:\", last_name)\n",
    "print(\"Age is: \", age)\n",
    "print(\"Favorite subject is: \", subject)"
   ]
  },
  {
   "cell_type": "markdown",
   "id": "60cbf6ef",
   "metadata": {},
   "source": [
    "# Shopping List"
   ]
  },
  {
   "cell_type": "code",
   "execution_count": 52,
   "id": "a07529de",
   "metadata": {},
   "outputs": [
    {
     "data": {
      "text/plain": [
       "5"
      ]
     },
     "execution_count": 52,
     "metadata": {},
     "output_type": "execute_result"
    }
   ],
   "source": [
    "shopping_list=[\"Milk\", \"protein bars\", \"Water bottles\", \"Hot Cheetos\", \"Almond Butter\"]\n",
    "len(shopping_list)"
   ]
  },
  {
   "cell_type": "code",
   "execution_count": null,
   "id": "21c388cd",
   "metadata": {},
   "outputs": [],
   "source": []
  }
 ],
 "metadata": {
  "kernelspec": {
   "display_name": "Python 3 (ipykernel)",
   "language": "python",
   "name": "python3"
  },
  "language_info": {
   "codemirror_mode": {
    "name": "ipython",
    "version": 3
   },
   "file_extension": ".py",
   "mimetype": "text/x-python",
   "name": "python",
   "nbconvert_exporter": "python",
   "pygments_lexer": "ipython3",
   "version": "3.11.4"
  }
 },
 "nbformat": 4,
 "nbformat_minor": 5
}
